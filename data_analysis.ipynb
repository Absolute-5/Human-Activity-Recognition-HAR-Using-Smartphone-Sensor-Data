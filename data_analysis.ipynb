{
 "cells": [
  {
   "cell_type": "code",
   "execution_count": 1,
   "id": "8e7b6559",
   "metadata": {},
   "outputs": [
    {
     "name": "stdout",
     "output_type": "stream",
     "text": [
      "C:\\Users\\pc\\Desktop\\har-ml\n"
     ]
    }
   ],
   "source": [
    "import os\n",
    "os.chdir(r\"C:\\Users\\pc\\Desktop\\har-ml\")  # Raw string\n",
    "print(os.getcwd())  # Confirm the path change"
   ]
  },
  {
   "cell_type": "code",
   "execution_count": 2,
   "id": "9d223049",
   "metadata": {},
   "outputs": [
    {
     "name": "stdout",
     "output_type": "stream",
     "text": [
      "['UCI.csv', 'UCI_preprocessed.csv']\n"
     ]
    }
   ],
   "source": [
    "import os\n",
    "print(os.listdir(\"data\"))"
   ]
  },
  {
   "cell_type": "code",
   "execution_count": 4,
   "id": "e206536f",
   "metadata": {},
   "outputs": [
    {
     "name": "stdout",
     "output_type": "stream",
     "text": [
      "DataFrame Head:\n",
      "   tBodyAcc-mean()-X  tBodyAcc-mean()-Y  tBodyAcc-mean()-Z  tBodyAcc-std()-X  \\\n",
      "0           0.288585          -0.020294          -0.132905         -0.995279   \n",
      "1           0.278419          -0.016411          -0.123520         -0.998245   \n",
      "2           0.279653          -0.019467          -0.113462         -0.995380   \n",
      "3           0.279174          -0.026201          -0.123283         -0.996091   \n",
      "4           0.276629          -0.016570          -0.115362         -0.998139   \n",
      "\n",
      "   tBodyAcc-std()-Y  tBodyAcc-std()-Z  tBodyAcc-mad()-X  tBodyAcc-mad()-Y  \\\n",
      "0         -0.983111         -0.913526         -0.995112         -0.983185   \n",
      "1         -0.975300         -0.960322         -0.998807         -0.974914   \n",
      "2         -0.967187         -0.978944         -0.996520         -0.963668   \n",
      "3         -0.983403         -0.990675         -0.997099         -0.982750   \n",
      "4         -0.980817         -0.990482         -0.998321         -0.979672   \n",
      "\n",
      "   tBodyAcc-mad()-Z  tBodyAcc-max()-X  ...  fBodyBodyGyroJerkMag-skewness()  \\\n",
      "0         -0.923527         -0.934724  ...                        -0.298676   \n",
      "1         -0.957686         -0.943068  ...                        -0.595051   \n",
      "2         -0.977469         -0.938692  ...                        -0.390748   \n",
      "3         -0.989302         -0.938692  ...                        -0.117290   \n",
      "4         -0.990441         -0.942469  ...                        -0.351471   \n",
      "\n",
      "   fBodyBodyGyroJerkMag-kurtosis()  angle(tBodyAccMean,gravity)  \\\n",
      "0                        -0.710304                    -0.112754   \n",
      "1                        -0.861499                     0.053477   \n",
      "2                        -0.760104                    -0.118559   \n",
      "3                        -0.482845                    -0.036788   \n",
      "4                        -0.699205                     0.123320   \n",
      "\n",
      "   angle(tBodyAccJerkMean),gravityMean)  angle(tBodyGyroMean,gravityMean)  \\\n",
      "0                              0.030400                         -0.464761   \n",
      "1                             -0.007435                         -0.732626   \n",
      "2                              0.177899                          0.100699   \n",
      "3                             -0.012892                          0.640011   \n",
      "4                              0.122542                          0.693578   \n",
      "\n",
      "   angle(tBodyGyroJerkMean,gravityMean)  angle(X,gravityMean)  \\\n",
      "0                             -0.018446             -0.841247   \n",
      "1                              0.703511             -0.844788   \n",
      "2                              0.808529             -0.848933   \n",
      "3                             -0.485366             -0.848649   \n",
      "4                             -0.615971             -0.847865   \n",
      "\n",
      "   angle(Y,gravityMean)  angle(Z,gravityMean)  Activity  \n",
      "0              0.179941             -0.058627  STANDING  \n",
      "1              0.180289             -0.054317  STANDING  \n",
      "2              0.180637             -0.049118  STANDING  \n",
      "3              0.181935             -0.047663  STANDING  \n",
      "4              0.185151             -0.043892  STANDING  \n",
      "\n",
      "[5 rows x 562 columns]\n",
      "tBodyAcc-mean()-X                       float64\n",
      "tBodyAcc-mean()-Y                       float64\n",
      "tBodyAcc-mean()-Z                       float64\n",
      "tBodyAcc-std()-X                        float64\n",
      "tBodyAcc-std()-Y                        float64\n",
      "                                         ...   \n",
      "angle(tBodyGyroJerkMean,gravityMean)    float64\n",
      "angle(X,gravityMean)                    float64\n",
      "angle(Y,gravityMean)                    float64\n",
      "angle(Z,gravityMean)                    float64\n",
      "Activity                                 object\n",
      "Length: 562, dtype: object\n"
     ]
    }
   ],
   "source": [
    "import pandas as pd\n",
    "import numpy as np\n",
    "import matplotlib.pyplot as plt\n",
    "import seaborn as sns\n",
    "\n",
    "# Set the correct path where your dataset is stored\n",
    "file_path = r\"data/UCI.csv\"  # Ensure it has .csv if needed\n",
    "\n",
    "plt.style.use('seaborn-v0_8')\n",
    "\n",
    "# Check if the file exists before trying to read it\n",
    "if os.path.exists(file_path):\n",
    "    uci_df = pd.read_csv(file_path, encoding='ascii')\n",
    "\n",
    "    print('DataFrame Head:')\n",
    "    print(uci_df.head())\n",
    "    print(uci_df.dtypes)\n",
    "else:\n",
    "    print(f\"Error: File not found at {file_path}. Please check the path.\")\n"
   ]
  },
  {
   "cell_type": "code",
   "execution_count": 5,
   "id": "8aaf7c91",
   "metadata": {},
   "outputs": [
    {
     "name": "stdout",
     "output_type": "stream",
     "text": [
      "tBodyAcc-mean()-X                       float64\n",
      "tBodyAcc-mean()-Y                       float64\n",
      "tBodyAcc-mean()-Z                       float64\n",
      "tBodyAcc-std()-X                        float64\n",
      "tBodyAcc-std()-Y                        float64\n",
      "                                         ...   \n",
      "angle(tBodyGyroJerkMean,gravityMean)    float64\n",
      "angle(X,gravityMean)                    float64\n",
      "angle(Y,gravityMean)                    float64\n",
      "angle(Z,gravityMean)                    float64\n",
      "Activity                                 object\n",
      "Length: 562, dtype: object\n"
     ]
    }
   ],
   "source": [
    "import pandas as pd\n",
    "\n",
    "# Load the dataset\n",
    "uci_df = pd.read_csv(\"data/UCI.csv\", encoding=\"ascii\")\n",
    "\n",
    "# Check data types\n",
    "print(uci_df.dtypes)\n"
   ]
  },
  {
   "cell_type": "code",
   "execution_count": 6,
   "id": "0d6628f4",
   "metadata": {},
   "outputs": [
    {
     "name": "stdout",
     "output_type": "stream",
     "text": [
      "Index(['tBodyAcc-mean()-X', 'tBodyAcc-mean()-Y', 'tBodyAcc-mean()-Z',\n",
      "       'tBodyAcc-std()-X', 'tBodyAcc-std()-Y', 'tBodyAcc-std()-Z',\n",
      "       'tBodyAcc-mad()-X', 'tBodyAcc-mad()-Y', 'tBodyAcc-mad()-Z',\n",
      "       'tBodyAcc-max()-X',\n",
      "       ...\n",
      "       'fBodyBodyGyroJerkMag-meanFreq()', 'fBodyBodyGyroJerkMag-skewness()',\n",
      "       'fBodyBodyGyroJerkMag-kurtosis()', 'angle(tBodyAccMean,gravity)',\n",
      "       'angle(tBodyAccJerkMean),gravityMean)',\n",
      "       'angle(tBodyGyroMean,gravityMean)',\n",
      "       'angle(tBodyGyroJerkMean,gravityMean)', 'angle(X,gravityMean)',\n",
      "       'angle(Y,gravityMean)', 'angle(Z,gravityMean)'],\n",
      "      dtype='object', length=561)\n"
     ]
    }
   ],
   "source": [
    "feature_names = uci_df.columns[:-1]  # Exclude 'Activity'\n",
    "print(feature_names)"
   ]
  },
  {
   "cell_type": "code",
   "execution_count": 7,
   "id": "b716c2d7",
   "metadata": {},
   "outputs": [
    {
     "name": "stdout",
     "output_type": "stream",
     "text": [
      "Dataset shape: (10299, 562)\n"
     ]
    }
   ],
   "source": [
    "print(\"Dataset shape:\", uci_df.shape)\n"
   ]
  },
  {
   "cell_type": "code",
   "execution_count": 8,
   "id": "662c6d5a",
   "metadata": {},
   "outputs": [
    {
     "name": "stdout",
     "output_type": "stream",
     "text": [
      "Activity\n",
      "LAYING                1944\n",
      "STANDING              1906\n",
      "SITTING               1777\n",
      "WALKING               1722\n",
      "WALKING_UPSTAIRS      1544\n",
      "WALKING_DOWNSTAIRS    1406\n",
      "Name: count, dtype: int64\n"
     ]
    }
   ],
   "source": [
    "print(uci_df['Activity'].value_counts())"
   ]
  },
  {
   "cell_type": "code",
   "execution_count": 9,
   "id": "3659a551",
   "metadata": {},
   "outputs": [
    {
     "name": "stdout",
     "output_type": "stream",
     "text": [
      "0\n"
     ]
    }
   ],
   "source": [
    "print(uci_df.isnull().sum().sum())  # Total missing values"
   ]
  },
  {
   "cell_type": "code",
   "execution_count": 10,
   "id": "ddcdd550",
   "metadata": {},
   "outputs": [
    {
     "name": "stdout",
     "output_type": "stream",
     "text": [
      "Number of duplicate rows: 0\n",
      "New dataset shape after duplicate removal: (10299, 562)\n"
     ]
    }
   ],
   "source": [
    "# Check for duplicates\n",
    "duplicates = uci_df.duplicated().sum()\n",
    "print(f\"Number of duplicate rows: {duplicates}\")\n",
    "\n",
    "# Remove duplicates if any\n",
    "uci_df = uci_df.drop_duplicates()\n",
    "print(f\"New dataset shape after duplicate removal: {uci_df.shape}\")\n"
   ]
  },
  {
   "cell_type": "code",
   "execution_count": 11,
   "id": "6817ed40",
   "metadata": {},
   "outputs": [],
   "source": [
    "from sklearn.preprocessing import StandardScaler\n",
    "\n",
    "# Select numerical features (all except 'Activity')\n",
    "feature_names = uci_df.columns[:-1]  # Exclude the target column\n",
    "scaler = StandardScaler()\n",
    "uci_df[feature_names] = scaler.fit_transform(uci_df[feature_names])"
   ]
  },
  {
   "cell_type": "code",
   "execution_count": 12,
   "id": "54af4a6b",
   "metadata": {},
   "outputs": [
    {
     "name": "stdout",
     "output_type": "stream",
     "text": [
      "Activity Label Encoding Mapping: {'LAYING': 0, 'SITTING': 1, 'STANDING': 2, 'WALKING': 3, 'WALKING_DOWNSTAIRS': 4, 'WALKING_UPSTAIRS': 5}\n"
     ]
    }
   ],
   "source": [
    "from sklearn.preprocessing import LabelEncoder\n",
    "\n",
    "# Encode the \"Activity\" column\n",
    "encoder = LabelEncoder()\n",
    "uci_df['Activity'] = encoder.fit_transform(uci_df['Activity'])\n",
    "\n",
    "# Print mapping of labels to numbers\n",
    "activity_mapping = dict(zip(encoder.classes_, encoder.transform(encoder.classes_)))\n",
    "print(\"Activity Label Encoding Mapping:\", activity_mapping)\n"
   ]
  },
  {
   "cell_type": "code",
   "execution_count": 13,
   "id": "9de65c5f",
   "metadata": {},
   "outputs": [
    {
     "name": "stdout",
     "output_type": "stream",
     "text": [
      "Final dataset saved successfully!\n"
     ]
    }
   ],
   "source": [
    "uci_df.to_csv(r\"C:\\Users\\pc\\Desktop\\har-ml\\data\\UCI_preprocessed.csv\", index=False)\n",
    "print(\"Final dataset saved successfully!\")\n"
   ]
  }
 ],
 "metadata": {
  "kernelspec": {
   "display_name": "Python 3 (ipykernel)",
   "language": "python",
   "name": "python3"
  },
  "language_info": {
   "codemirror_mode": {
    "name": "ipython",
    "version": 3
   },
   "file_extension": ".py",
   "mimetype": "text/x-python",
   "name": "python",
   "nbconvert_exporter": "python",
   "pygments_lexer": "ipython3",
   "version": "3.11.5"
  }
 },
 "nbformat": 4,
 "nbformat_minor": 5
}
