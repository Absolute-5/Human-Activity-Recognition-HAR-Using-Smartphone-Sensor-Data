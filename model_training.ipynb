{
 "cells": [
  {
   "cell_type": "code",
   "execution_count": 15,
   "id": "946bb790",
   "metadata": {},
   "outputs": [
    {
     "name": "stdout",
     "output_type": "stream",
     "text": [
      "C:\\Users\\pc\\Desktop\\har-ml\n"
     ]
    }
   ],
   "source": [
    "import os\n",
    "os.chdir(r\"C:\\Users\\pc\\Desktop\\har-ml\")  # Raw string\n",
    "print(os.getcwd())  # Confirm the path change"
   ]
  },
  {
   "cell_type": "code",
   "execution_count": 16,
   "id": "4d08f63b",
   "metadata": {},
   "outputs": [
    {
     "name": "stdout",
     "output_type": "stream",
     "text": [
      "Dataset loaded successfully.\n"
     ]
    }
   ],
   "source": [
    "import pandas as pd\n",
    "\n",
    "# Load the processed dataset\n",
    "file_path = \"data/UCI_preprocessed.csv\"  # Ensure this is the correct path\n",
    "uci_df = pd.read_csv(file_path)\n",
    "\n",
    "print(\"Dataset loaded successfully.\")"
   ]
  },
  {
   "cell_type": "code",
   "execution_count": 18,
   "id": "60487a0e",
   "metadata": {},
   "outputs": [
    {
     "name": "stdout",
     "output_type": "stream",
     "text": [
      "Logistic Regression Accuracy: 0.983495145631068\n",
      "Classification Report:\n",
      "               precision    recall  f1-score   support\n",
      "\n",
      "           0       1.00      1.00      1.00       406\n",
      "           1       0.98      0.94      0.96       377\n",
      "           2       0.94      0.97      0.96       354\n",
      "           3       1.00      0.99      1.00       369\n",
      "           4       1.00      1.00      1.00       284\n",
      "           5       0.99      1.00      0.99       270\n",
      "\n",
      "    accuracy                           0.98      2060\n",
      "   macro avg       0.98      0.98      0.98      2060\n",
      "weighted avg       0.98      0.98      0.98      2060\n",
      "\n"
     ]
    }
   ],
   "source": [
    "from sklearn.model_selection import train_test_split\n",
    "from sklearn.preprocessing import LabelEncoder, StandardScaler\n",
    "from sklearn.linear_model import LogisticRegression\n",
    "from sklearn.metrics import accuracy_score, classification_report\n",
    "\n",
    "# Encode labels\n",
    "label_encoder = LabelEncoder()\n",
    "uci_df['Activity'] = label_encoder.fit_transform(uci_df['Activity'])\n",
    "\n",
    "# Prepare data\n",
    "X = uci_df.iloc[:, :-1]  # Features\n",
    "y = uci_df['Activity']   # Target\n",
    "\n",
    "# Train-test split\n",
    "X_train, X_test, y_train, y_test = train_test_split(X, y, test_size=0.2, random_state=42)\n",
    "\n",
    "# Standardize features\n",
    "scaler = StandardScaler()\n",
    "X_train = scaler.fit_transform(X_train)\n",
    "X_test = scaler.transform(X_test)\n",
    "\n",
    "# Train Logistic Regression\n",
    "lr = LogisticRegression(max_iter=2000)\n",
    "lr.fit(X_train, y_train)\n",
    "\n",
    "# Evaluate\n",
    "y_pred = lr.predict(X_test)\n",
    "print(\"Logistic Regression Accuracy:\", accuracy_score(y_test, y_pred))\n",
    "print(\"Classification Report:\\n\", classification_report(y_test, y_pred))\n"
   ]
  },
  {
   "cell_type": "code",
   "execution_count": 19,
   "id": "3e4219ed",
   "metadata": {
    "scrolled": true
   },
   "outputs": [
    {
     "name": "stdout",
     "output_type": "stream",
     "text": [
      "Random Forest Accuracy: 0.9786407766990292\n",
      "Classification Report:\n",
      "               precision    recall  f1-score   support\n",
      "\n",
      "           0       1.00      1.00      1.00       406\n",
      "           1       0.97      0.95      0.96       377\n",
      "           2       0.95      0.96      0.96       354\n",
      "           3       0.99      0.99      0.99       369\n",
      "           4       0.99      0.96      0.98       284\n",
      "           5       0.97      0.99      0.98       270\n",
      "\n",
      "    accuracy                           0.98      2060\n",
      "   macro avg       0.98      0.98      0.98      2060\n",
      "weighted avg       0.98      0.98      0.98      2060\n",
      "\n"
     ]
    }
   ],
   "source": [
    "from sklearn.ensemble import RandomForestClassifier\n",
    "\n",
    "# Train Random Forest\n",
    "rf = RandomForestClassifier(n_estimators=100, random_state=42)\n",
    "rf.fit(X_train, y_train)\n",
    "\n",
    "# Evaluate\n",
    "y_pred_rf = rf.predict(X_test)\n",
    "print(\"Random Forest Accuracy:\", accuracy_score(y_test, y_pred_rf))\n",
    "print(\"Classification Report:\\n\", classification_report(y_test, y_pred_rf))"
   ]
  },
  {
   "cell_type": "code",
   "execution_count": 23,
   "id": "7b340cb0",
   "metadata": {},
   "outputs": [
    {
     "name": "stdout",
     "output_type": "stream",
     "text": [
      "Best Model Accuracy: 0.9717198386233082\n"
     ]
    }
   ],
   "source": [
    "from sklearn.model_selection import RandomizedSearchCV\n",
    "import numpy as np\n",
    "\n",
    "# Define parameter grid with fewer values\n",
    "param_dist = {\n",
    "    'n_estimators': np.arange(50, 200, 50),\n",
    "    'max_depth': [None, 10, 20],\n",
    "    'min_samples_split': [2, 5, 10]\n",
    "}\n",
    "\n",
    "# Use Randomized Search instead of Grid Search\n",
    "random_search = RandomizedSearchCV(RandomForestClassifier(), param_dist, n_iter=10, cv=3, scoring='accuracy', n_jobs=-1, random_state=42)\n",
    "random_search.fit(X_train, y_train)\n",
    "\n",
    "# Best model\n",
    "best_model = random_search.best_estimator_\n",
    "best_accuracy = random_search.best_score_\n",
    "\n",
    "print(\"Best Model Accuracy:\", best_accuracy)\n"
   ]
  },
  {
   "cell_type": "code",
   "execution_count": 26,
   "id": "1672a327",
   "metadata": {},
   "outputs": [
    {
     "name": "stdout",
     "output_type": "stream",
     "text": [
      "Model Accuracy: 0.9766990291262136\n",
      "Classification Report:\n",
      "               precision    recall  f1-score   support\n",
      "\n",
      "           0       1.00      1.00      1.00       406\n",
      "           1       0.96      0.96      0.96       377\n",
      "           2       0.96      0.96      0.96       354\n",
      "           3       0.98      0.99      0.99       369\n",
      "           4       0.98      0.97      0.97       284\n",
      "           5       0.98      0.97      0.98       270\n",
      "\n",
      "    accuracy                           0.98      2060\n",
      "   macro avg       0.98      0.98      0.98      2060\n",
      "weighted avg       0.98      0.98      0.98      2060\n",
      "\n",
      "Diagram saved at: C:\\Users\\pc\\Desktop\\har-ml\\results\\confusion_matrix.png\n"
     ]
    },
    {
     "data": {
      "image/png": "[encoded data removed]",
      "text/plain": [
       "<Figure size 600x500 with 2 Axes>"
      ]
     },
     "metadata": {},
     "output_type": "display_data"
    },
    {
     "name": "stdout",
     "output_type": "stream",
     "text": [
      " Model evaluation completed and results saved.\n"
     ]
    }
   ],
   "source": [
    "\n",
    "import pandas as pd\n",
    "import joblib\n",
    "from sklearn.model_selection import train_test_split\n",
    "from sklearn.metrics import accuracy_score, classification_report, confusion_matrix\n",
    "import seaborn as sns\n",
    "import matplotlib.pyplot as plt\n",
    "\n",
    "results_dir = r\"C:\\Users\\pc\\Desktop\\har-ml\\results\"\n",
    "\n",
    "\n",
    "\n",
    "# Load the saved label encoder and transform labels\n",
    "label_encoder = joblib.load(\"../models/label_encoder.pkl\")\n",
    "uci_df['Activity'] = label_encoder.transform(uci_df['Activity'])\n",
    "\n",
    "# Prepare data\n",
    "X = uci_df.iloc[:, :-1]  # Features\n",
    "y = uci_df['Activity']   # Target\n",
    "\n",
    "# Load train-test split structure (same as training)\n",
    "_, X_test, _, y_test = train_test_split(X, y, test_size=0.2, random_state=42)\n",
    "\n",
    "# Load the saved scaler and standardize test data\n",
    "scaler = joblib.load(\"../models/scaler.pkl\")\n",
    "X_test = scaler.transform(X_test)\n",
    "\n",
    "# Load the trained best model\n",
    "best_model = joblib.load(\"../models/best_model.pkl\")\n",
    "\n",
    "# Predict on test set\n",
    "y_pred = best_model.predict(X_test)\n",
    "\n",
    "# Evaluate the model\n",
    "accuracy = accuracy_score(y_test, y_pred)\n",
    "print(f\"Model Accuracy: {accuracy}\")\n",
    "print(\"Classification Report:\\n\", classification_report(y_test, y_pred))\n",
    "\n",
    "# Generate and save confusion matrix\n",
    "cm = confusion_matrix(y_test, y_pred)\n",
    "plt.figure(figsize=(6,5))\n",
    "sns.heatmap(cm, annot=True, fmt=\"d\", cmap=\"Blues\")\n",
    "plt.title(\"Confusion Matrix\")\n",
    "plt.xlabel(\"Predicted\")\n",
    "plt.ylabel(\"Actual\")\n",
    "save_path = os.path.join(results_dir, \"confusion_matrix.png\")\n",
    "plt.savefig(save_path)\n",
    "print(f\"Diagram saved at: {save_path}\")\n",
    "plt.show()\n",
    "\n",
    "print(\" Model evaluation completed and results saved.\")\n"
   ]
  },
  {
   "cell_type": "code",
   "execution_count": null,
   "id": "91323d5a",
   "metadata": {},
   "outputs": [],
   "source": []
  }
 ],
 "metadata": {
  "kernelspec": {
   "display_name": "Python 3 (ipykernel)",
   "language": "python",
   "name": "python3"
  },
  "language_info": {
   "codemirror_mode": {
    "name": "ipython",
    "version": 3
   },
   "file_extension": ".py",
   "mimetype": "text/x-python",
   "name": "python",
   "nbconvert_exporter": "python",
   "pygments_lexer": "ipython3",
   "version": "3.11.5"
  }
 },
 "nbformat": 4,
 "nbformat_minor": 5
}
