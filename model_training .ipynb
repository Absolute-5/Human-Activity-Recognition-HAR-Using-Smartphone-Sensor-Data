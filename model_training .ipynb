{
 "cells": [
  {
   "cell_type": "code",
   "execution_count": 1,
   "id": "3ebdee34",
   "metadata": {},
   "outputs": [
    {
     "name": "stdout",
     "output_type": "stream",
     "text": [
      "C:\\Users\\pc\\Desktop\\har-ml\n"
     ]
    }
   ],
   "source": [
    "import os\n",
    "os.chdir(r\"C:\\Users\\pc\\Desktop\\har-ml\")  # Raw string\n",
    "print(os.getcwd())  # Confirm the path change\n"
   ]
  },
  {
   "cell_type": "code",
   "execution_count": 2,
   "id": "6e2c4bbe",
   "metadata": {},
   "outputs": [
    {
     "name": "stdout",
     "output_type": "stream",
     "text": [
      "['data_analysis.ipynb', 'model_training-checkpoint.ipynb', 'model_training.ipynb']\n"
     ]
    }
   ],
   "source": [
    "import os\n",
    "print(os.listdir(\"notebooks\"))"
   ]
  },
  {
   "cell_type": "code",
   "execution_count": 3,
   "id": "b0e241fd",
   "metadata": {},
   "outputs": [
    {
     "name": "stdout",
     "output_type": "stream",
     "text": [
      "Dataset loaded successfully.\n"
     ]
    }
   ],
   "source": [
    "import pandas as pd\n",
    "\n",
    "# Load the processed dataset\n",
    "file_path = \"data/UCI_preprocessed.csv\"  # Ensure this is the correct path\n",
    "uci_df = pd.read_csv(file_path)\n",
    "\n",
    "print(\"Dataset loaded successfully.\")\n",
    "\n"
   ]
  },
  {
   "cell_type": "code",
   "execution_count": 4,
   "id": "8f7822d2",
   "metadata": {},
   "outputs": [
    {
     "name": "stdout",
     "output_type": "stream",
     "text": [
      "File found. Loading dataset...\n",
      "Dataset loaded successfully.\n"
     ]
    }
   ],
   "source": [
    "import os\n",
    "import pandas as pd\n",
    "file_path = r\"C:\\Users\\pc\\Desktop\\har-ml\\data\\UCI_preprocessed.csv\"\n",
    "uci_df = pd.read_csv(file_path)\n",
    "\n",
    "\n",
    "if os.path.exists(file_path):\n",
    "    print(\"File found. Loading dataset...\")\n",
    "    uci_df = pd.read_csv(file_path)\n",
    "    print(\"Dataset loaded successfully.\")\n",
    "else:\n",
    "    print(\"Error: File not found at\", file_path)\n"
   ]
  },
  {
   "cell_type": "code",
   "execution_count": 23,
   "id": "466ef357",
   "metadata": {},
   "outputs": [],
   "source": [
    "import pandas as pd\n",
    "\n",
    "# Step 0: Load your dataset\n",
    "df = pd.read_csv('data/UCI_preprocessed.csv')  # replace with your actual file name\n",
    "\n",
    "# Step 1: Separate features and target\n",
    "# Let's assume the target column is named 'Activity' and the rest are features\n",
    "X = df.drop('Activity', axis=1)\n",
    "y = df['Activity']\n"
   ]
  },
  {
   "cell_type": "code",
   "execution_count": 25,
   "id": "99f8ea93",
   "metadata": {},
   "outputs": [
    {
     "name": "stdout",
     "output_type": "stream",
     "text": [
      "✅ Dataset loaded successfully!\n",
      "📋 Columns in the dataset:\n",
      "Index(['tBodyAcc-mean()-X', 'tBodyAcc-mean()-Y', 'tBodyAcc-mean()-Z',\n",
      "       'tBodyAcc-std()-X', 'tBodyAcc-std()-Y', 'tBodyAcc-std()-Z',\n",
      "       'tBodyAcc-mad()-X', 'tBodyAcc-mad()-Y', 'tBodyAcc-mad()-Z',\n",
      "       'tBodyAcc-max()-X',\n",
      "       ...\n",
      "       'fBodyBodyGyroJerkMag-skewness()', 'fBodyBodyGyroJerkMag-kurtosis()',\n",
      "       'angle(tBodyAccMean,gravity)', 'angle(tBodyAccJerkMean),gravityMean)',\n",
      "       'angle(tBodyGyroMean,gravityMean)',\n",
      "       'angle(tBodyGyroJerkMean,gravityMean)', 'angle(X,gravityMean)',\n",
      "       'angle(Y,gravityMean)', 'angle(Z,gravityMean)', 'Activity'],\n",
      "      dtype='object', length=562)\n",
      "\n",
      "🔍 First few rows:\n",
      "   tBodyAcc-mean()-X  tBodyAcc-mean()-Y  tBodyAcc-mean()-Z  tBodyAcc-std()-X  \\\n",
      "0           0.210534          -0.068703          -0.452195         -0.883335   \n",
      "1           0.060208           0.035902          -0.275222         -0.890098   \n",
      "2           0.078460          -0.046427          -0.085548         -0.883565   \n",
      "3           0.071375          -0.227794          -0.270741         -0.885188   \n",
      "4           0.033738           0.031617          -0.121380         -0.889855   \n",
      "\n",
      "   tBodyAcc-std()-Y  tBodyAcc-std()-Z  tBodyAcc-mad()-X  tBodyAcc-mad()-Y  \\\n",
      "0         -0.945431         -0.744387         -0.874687         -0.944877   \n",
      "1         -0.929817         -0.860322         -0.883627         -0.927796   \n",
      "2         -0.913598         -0.906457         -0.878093         -0.904569   \n",
      "3         -0.946015         -0.935521         -0.879495         -0.943980   \n",
      "4         -0.940846         -0.935041         -0.882451         -0.937622   \n",
      "\n",
      "   tBodyAcc-mad()-Z  tBodyAcc-max()-X  ...  fBodyBodyGyroJerkMag-skewness()  \\\n",
      "0         -0.773250         -0.868773  ...                        -0.000264   \n",
      "1         -0.858859         -0.884263  ...                        -0.925905   \n",
      "2         -0.908437         -0.876139  ...                        -0.287824   \n",
      "3         -0.938095         -0.876139  ...                         0.566244   \n",
      "4         -0.940948         -0.883152  ...                        -0.165153   \n",
      "\n",
      "   fBodyBodyGyroJerkMag-kurtosis()  angle(tBodyAccMean,gravity)  \\\n",
      "0                        -0.299902                    -0.357898   \n",
      "1                        -0.789555                     0.135993   \n",
      "2                        -0.461181                    -0.375145   \n",
      "3                         0.436736                    -0.132194   \n",
      "4                        -0.263958                     0.343504   \n",
      "\n",
      "   angle(tBodyAccJerkMean),gravityMean)  angle(tBodyGyroMean,gravityMean)  \\\n",
      "0                              0.062039                         -0.782988   \n",
      "1                             -0.022538                         -1.217721   \n",
      "2                              0.391762                          0.134732   \n",
      "3                             -0.034739                          1.010013   \n",
      "4                              0.268015                          1.096950   \n",
      "\n",
      "   angle(tBodyGyroJerkMean,gravityMean)  angle(X,gravityMean)  \\\n",
      "0                             -0.019034             -0.674432   \n",
      "1                              1.470315             -0.681360   \n",
      "2                              1.686961             -0.689471   \n",
      "3                             -0.982261             -0.688915   \n",
      "4                             -1.251689             -0.687381   \n",
      "\n",
      "   angle(Y,gravityMean)  angle(Z,gravityMean)  Activity  \n",
      "0              0.382008             -0.016151         2  \n",
      "1              0.383148             -0.000121         2  \n",
      "2              0.384289              0.019214         2  \n",
      "3              0.388536              0.024624         2  \n",
      "4              0.399066              0.038649         2  \n",
      "\n",
      "[5 rows x 562 columns]\n"
     ]
    }
   ],
   "source": [
    "import pandas as pd\n",
    "\n",
    "# Step 0: Try loading your dataset\n",
    "try:\n",
    "    df = pd.read_csv('data/UCI_preprocessed.csv')  # Replace with your actual filename\n",
    "    print(\"✅ Dataset loaded successfully!\")\n",
    "    print(\"📋 Columns in the dataset:\")\n",
    "    print(df.columns)\n",
    "    print(\"\\n🔍 First few rows:\")\n",
    "    print(df.head())\n",
    "except FileNotFoundError:\n",
    "    print(\"❌ Error: File not found. Check the filename and path.\")\n",
    "except Exception as e:\n",
    "    print(f\"❌ An error occurred: {e}\")\n"
   ]
  },
  {
   "cell_type": "code",
   "execution_count": 5,
   "id": "fb9493d7",
   "metadata": {},
   "outputs": [
    {
     "name": "stdout",
     "output_type": "stream",
     "text": [
      "Logistic Regression CV Accuracy: 0.9851 ± 0.0030\n",
      "Random Forest CV Accuracy: 0.9784 ± 0.0037\n"
     ]
    }
   ],
   "source": [
    "from sklearn.model_selection import cross_val_score, StratifiedKFold\n",
    "from sklearn.preprocessing import LabelEncoder, StandardScaler\n",
    "from sklearn.linear_model import LogisticRegression\n",
    "from sklearn.ensemble import RandomForestClassifier\n",
    "from sklearn.pipeline import Pipeline\n",
    "import numpy as np\n",
    "\n",
    "# Assume uci_df is your DataFrame and already loaded\n",
    "# Step 1: Encode the labels\n",
    "label_encoder = LabelEncoder()\n",
    "uci_df['Activity'] = label_encoder.fit_transform(uci_df['Activity'])\n",
    "\n",
    "# Step 2: Feature and target split\n",
    "X = uci_df.iloc[:, :-1]\n",
    "y = uci_df['Activity']\n",
    "\n",
    "# Step 3: Define cross-validation strategy\n",
    "cv = StratifiedKFold(n_splits=5, shuffle=True, random_state=42)\n",
    "\n",
    "# Step 4: Define pipelines for both models\n",
    "lr_pipeline = Pipeline([\n",
    "    ('scaler', StandardScaler()),\n",
    "    ('classifier', LogisticRegression(max_iter=2000))\n",
    "])\n",
    "\n",
    "rf_pipeline = Pipeline([\n",
    "    ('scaler', StandardScaler()),  # Optional for RF, included for consistency\n",
    "    ('classifier', RandomForestClassifier(n_estimators=100, random_state=42))\n",
    "])\n",
    "\n",
    "# Step 5: Cross-validate Logistic Regression\n",
    "lr_scores = cross_val_score(lr_pipeline, X, y, cv=cv, scoring='accuracy', n_jobs=-1)\n",
    "print(\"Logistic Regression CV Accuracy: %.4f ± %.4f\" % (lr_scores.mean(), lr_scores.std()))\n",
    "\n",
    "# Step 6: Cross-validate Random Forest\n",
    "rf_scores = cross_val_score(rf_pipeline, X, y, cv=cv, scoring='accuracy', n_jobs=-1)\n",
    "print(\"Random Forest CV Accuracy: %.4f ± %.4f\" % (rf_scores.mean(), rf_scores.std()))\n"
   ]
  },
  {
   "cell_type": "code",
   "execution_count": 30,
   "id": "d92cac3d",
   "metadata": {},
   "outputs": [
    {
     "name": "stdout",
     "output_type": "stream",
     "text": [
      "✅ Model and scaler trained and saved successfully.\n"
     ]
    }
   ],
   "source": [
    "import pandas as pd\n",
    "import joblib\n",
    "from sklearn.model_selection import train_test_split\n",
    "from sklearn.preprocessing import StandardScaler\n",
    "from sklearn.linear_model import LogisticRegression\n",
    "\n",
    "# Step 1: Load dataset\n",
    "df = pd.read_csv('data/UCI_preprocessed.csv')\n",
    "\n",
    "# Step 2: Define features and target\n",
    "X = df.drop(columns=['Activity'])\n",
    "y = df['Activity']\n",
    "\n",
    "# Step 3: Split the data (80% training, 20% testing)\n",
    "X_train, X_test, y_train, y_test = train_test_split(X, y, test_size=0.2, random_state=42)\n",
    "\n",
    "# Step 4: Scale features\n",
    "scaler = StandardScaler()\n",
    "X_train_scaled = scaler.fit_transform(X_train)\n",
    "X_test_scaled = scaler.transform(X_test)  # Optional: for testing later\n",
    "\n",
    "# Train the logistic regression model with more iterations (e.g., 2000)\n",
    "lr_model = LogisticRegression(max_iter=2000)\n",
    "lr_model.fit(X_train_scaled, y_train)\n",
    "\n",
    "\n",
    "# Step 6: Save the model and scaler\n",
    "joblib.dump(lr_model, 'best_logistic_regression_model.pkl')\n",
    "joblib.dump(scaler, 'scaler.pkl')\n",
    "\n",
    "print(\"✅ Model and scaler trained and saved successfully.\")\n"
   ]
  },
  {
   "cell_type": "code",
   "execution_count": 31,
   "id": "d86efe62",
   "metadata": {},
   "outputs": [
    {
     "name": "stdout",
     "output_type": "stream",
     "text": [
      "Logistic Regression CV Accuracy: 0.9596 ± 0.0258\n"
     ]
    }
   ],
   "source": [
    "import joblib\n",
    "import pandas as pd\n",
    "from sklearn.model_selection import cross_val_score\n",
    "from sklearn.preprocessing import StandardScaler\n",
    "\n",
    "# Step 1: Load dataset\n",
    "df = pd.read_csv('data/UCI_preprocessed.csv')\n",
    "\n",
    "# Step 2: Define features (X) and target (y)\n",
    "X = df.drop(columns=['Activity'])\n",
    "y = df['Activity']\n",
    "\n",
    "# Step 3: Load the trained model and scaler\n",
    "lr_model = joblib.load('best_logistic_regression_model.pkl')\n",
    "scaler = joblib.load('scaler.pkl')\n",
    "\n",
    "# Step 4: Scale the features using the scaler fitted during training\n",
    "X_scaled = scaler.transform(X)\n",
    "\n",
    "# Step 5: Perform 10-fold cross-validation\n",
    "cv_scores = cross_val_score(lr_model, X_scaled, y, cv=10, scoring='accuracy')\n",
    "\n",
    "# Step 6: Print results\n",
    "print(f\"Logistic Regression CV Accuracy: {cv_scores.mean():.4f} ± {cv_scores.std():.4f}\")\n",
    "\n",
    "\n"
   ]
  },
  {
   "cell_type": "code",
   "execution_count": 33,
   "id": "7e7f0486",
   "metadata": {},
   "outputs": [
    {
     "name": "stdout",
     "output_type": "stream",
     "text": [
      "Model and scaler saved successfully!\n"
     ]
    }
   ],
   "source": [
    "import joblib\n",
    "\n",
    "# Save the trained best model (e.g., after training it in Step 4)\n",
    "joblib.dump(best_model, 'best_model.pkl')\n",
    "\n",
    "# Save the scaler used for preprocessing\n",
    "joblib.dump(scaler, 'scaler.pkl')\n",
    "\n",
    "print(\"Model and scaler saved successfully!\")\n"
   ]
  },
  {
   "cell_type": "code",
   "execution_count": 39,
   "id": "2b5ed064",
   "metadata": {},
   "outputs": [
    {
     "data": {
      "text/plain": [
       "<sklearn.metrics._plot.confusion_matrix.ConfusionMatrixDisplay at 0x20718cf6110>"
      ]
     },
     "execution_count": 39,
     "metadata": {},
     "output_type": "execute_result"
    },
    {
     "data": {
      "image/png": "[encoded data removed]",
      "text/plain": [
       "<Figure size 640x480 with 2 Axes>"
      ]
     },
     "metadata": {},
     "output_type": "display_data"
    }
   ],
   "source": [
    "import joblib\n",
    "import pandas as pd\n",
    "from sklearn.model_selection import cross_val_predict\n",
    "from sklearn.metrics import confusion_matrix, ConfusionMatrixDisplay\n",
    "from sklearn.linear_model import LogisticRegression\n",
    "from sklearn.preprocessing import StandardScaler\n",
    "\n",
    "# Step 1: Load dataset\n",
    "df = pd.read_csv('data/UCI_preprocessed.csv')\n",
    "\n",
    "# Step 2: Define features (X) and target (y)\n",
    "X = df.drop(columns=['Activity'])\n",
    "y = df['Activity']\n",
    "\n",
    "# Step 3: Load the trained model and scaler\n",
    "lr_model = joblib.load('best_logistic_regression_model.pkl')\n",
    "scaler = joblib.load('scaler.pkl')\n",
    "\n",
    "# Step 4: Scale the features\n",
    "X_scaled = scaler.transform(X)\n",
    "\n",
    "# Step 5: Perform cross-validation and get predicted values\n",
    "y_pred = cross_val_predict(lr_model, X_scaled, y, cv=10)\n",
    "\n",
    "# Step 6: Generate confusion matrix\n",
    "cm = confusion_matrix(y, y_pred)\n",
    "\n",
    "# Step 7: Display confusion matrix\n",
    "disp = ConfusionMatrixDisplay(confusion_matrix=cm, display_labels=lr_model.classes_)\n",
    "disp.plot(cmap='Blues')\n"
   ]
  },
  {
   "cell_type": "code",
   "execution_count": null,
   "id": "37676067",
   "metadata": {},
   "outputs": [],
   "source": []
  }
 ],
 "metadata": {
  "kernelspec": {
   "display_name": "Python 3 (ipykernel)",
   "language": "python",
   "name": "python3"
  },
  "language_info": {
   "codemirror_mode": {
    "name": "ipython",
    "version": 3
   },
   "file_extension": ".py",
   "mimetype": "text/x-python",
   "name": "python",
   "nbconvert_exporter": "python",
   "pygments_lexer": "ipython3",
   "version": "3.11.5"
  }
 },
 "nbformat": 4,
 "nbformat_minor": 5
}
